{
 "cells": [
  {
   "cell_type": "markdown",
   "id": "42efde42",
   "metadata": {},
   "source": [
    "### To run Kafka you need to install : kafka-python"
   ]
  },
  {
   "cell_type": "code",
   "execution_count": 31,
   "id": "0d360239",
   "metadata": {},
   "outputs": [
    {
     "name": "stdout",
     "output_type": "stream",
     "text": [
      "Defaulting to user installation because normal site-packages is not writeable\n",
      "Requirement already satisfied: kafka-python in /Users/sayalipatil/Library/Python/3.9/lib/python/site-packages (2.0.2)\n",
      "\u001b[33mWARNING: You are using pip version 21.2.4; however, version 23.1.2 is available.\n",
      "You should consider upgrading via the '/Library/Developer/CommandLineTools/usr/bin/python3 -m pip install --upgrade pip' command.\u001b[0m\n",
      "Note: you may need to restart the kernel to use updated packages.\n"
     ]
    }
   ],
   "source": [
    "pip install kafka-python"
   ]
  },
  {
   "cell_type": "markdown",
   "id": "c86ca488",
   "metadata": {},
   "source": [
    "### Import the Libraries needed"
   ]
  },
  {
   "cell_type": "code",
   "execution_count": 1,
   "id": "a8e5924c",
   "metadata": {},
   "outputs": [],
   "source": [
    "import pandas as pd\n",
    "from kafka import KafkaProducer #Importing Producer from Kafka\n",
    "from time import sleep\n",
    "from json import dumps\n",
    "import json"
   ]
  },
  {
   "cell_type": "markdown",
   "id": "77c8b905",
   "metadata": {},
   "source": [
    "### For security reasons, reading IP from a file"
   ]
  },
  {
   "cell_type": "code",
   "execution_count": 2,
   "id": "a069fa5a",
   "metadata": {},
   "outputs": [],
   "source": [
    "f = open(\"ip_address\", \"r\")\n",
    "public_ip = (f.read())"
   ]
  },
  {
   "cell_type": "code",
   "execution_count": 3,
   "id": "2f0604d5",
   "metadata": {},
   "outputs": [],
   "source": [
    "producer = KafkaProducer(bootstrap_servers=[public_ip+':9092'], #Add public IP of your EC2 instance here\n",
    "                         value_serializer=lambda x: \n",
    "                         dumps(x).encode('utf-8'))"
   ]
  },
  {
   "cell_type": "markdown",
   "id": "a4984d92",
   "metadata": {},
   "source": [
    "### Sending values on the topic for testing"
   ]
  },
  {
   "cell_type": "code",
   "execution_count": 4,
   "id": "762a07fb",
   "metadata": {},
   "outputs": [
    {
     "data": {
      "text/plain": [
       "<kafka.producer.future.FutureRecordMetadata at 0x115c0beb0>"
      ]
     },
     "execution_count": 4,
     "metadata": {},
     "output_type": "execute_result"
    }
   ],
   "source": [
    "producer.send('stockmarketdata', value={'data':'data1'})"
   ]
  },
  {
   "cell_type": "markdown",
   "id": "ab532d7c",
   "metadata": {},
   "source": [
    "### Reading data from the data file"
   ]
  },
  {
   "cell_type": "code",
   "execution_count": 5,
   "id": "72111e9e",
   "metadata": {},
   "outputs": [],
   "source": [
    "data = pd.read_csv('./Dataset/aadr.us.txt', delimiter=',')"
   ]
  },
  {
   "cell_type": "code",
   "execution_count": 6,
   "id": "338d4fce",
   "metadata": {},
   "outputs": [
    {
     "data": {
      "text/html": [
       "<div>\n",
       "<style scoped>\n",
       "    .dataframe tbody tr th:only-of-type {\n",
       "        vertical-align: middle;\n",
       "    }\n",
       "\n",
       "    .dataframe tbody tr th {\n",
       "        vertical-align: top;\n",
       "    }\n",
       "\n",
       "    .dataframe thead th {\n",
       "        text-align: right;\n",
       "    }\n",
       "</style>\n",
       "<table border=\"1\" class=\"dataframe\">\n",
       "  <thead>\n",
       "    <tr style=\"text-align: right;\">\n",
       "      <th></th>\n",
       "      <th>Date</th>\n",
       "      <th>Open</th>\n",
       "      <th>High</th>\n",
       "      <th>Low</th>\n",
       "      <th>Close</th>\n",
       "      <th>Volume</th>\n",
       "      <th>OpenInt</th>\n",
       "    </tr>\n",
       "  </thead>\n",
       "  <tbody>\n",
       "    <tr>\n",
       "      <th>0</th>\n",
       "      <td>2010-07-21</td>\n",
       "      <td>24.333</td>\n",
       "      <td>24.3330</td>\n",
       "      <td>23.9460</td>\n",
       "      <td>23.9460</td>\n",
       "      <td>43321</td>\n",
       "      <td>0</td>\n",
       "    </tr>\n",
       "    <tr>\n",
       "      <th>1</th>\n",
       "      <td>2010-07-22</td>\n",
       "      <td>24.644</td>\n",
       "      <td>24.6440</td>\n",
       "      <td>24.3620</td>\n",
       "      <td>24.4870</td>\n",
       "      <td>18031</td>\n",
       "      <td>0</td>\n",
       "    </tr>\n",
       "    <tr>\n",
       "      <th>2</th>\n",
       "      <td>2010-07-23</td>\n",
       "      <td>24.759</td>\n",
       "      <td>24.7590</td>\n",
       "      <td>24.3140</td>\n",
       "      <td>24.5070</td>\n",
       "      <td>8897</td>\n",
       "      <td>0</td>\n",
       "    </tr>\n",
       "    <tr>\n",
       "      <th>3</th>\n",
       "      <td>2010-07-26</td>\n",
       "      <td>24.624</td>\n",
       "      <td>24.6240</td>\n",
       "      <td>24.4490</td>\n",
       "      <td>24.5950</td>\n",
       "      <td>19443</td>\n",
       "      <td>0</td>\n",
       "    </tr>\n",
       "    <tr>\n",
       "      <th>4</th>\n",
       "      <td>2010-07-27</td>\n",
       "      <td>24.477</td>\n",
       "      <td>24.5170</td>\n",
       "      <td>24.4310</td>\n",
       "      <td>24.5170</td>\n",
       "      <td>8456</td>\n",
       "      <td>0</td>\n",
       "    </tr>\n",
       "    <tr>\n",
       "      <th>...</th>\n",
       "      <td>...</td>\n",
       "      <td>...</td>\n",
       "      <td>...</td>\n",
       "      <td>...</td>\n",
       "      <td>...</td>\n",
       "      <td>...</td>\n",
       "      <td>...</td>\n",
       "    </tr>\n",
       "    <tr>\n",
       "      <th>1560</th>\n",
       "      <td>2017-11-06</td>\n",
       "      <td>57.610</td>\n",
       "      <td>57.7372</td>\n",
       "      <td>57.2285</td>\n",
       "      <td>57.6500</td>\n",
       "      <td>41601</td>\n",
       "      <td>0</td>\n",
       "    </tr>\n",
       "    <tr>\n",
       "      <th>1561</th>\n",
       "      <td>2017-11-07</td>\n",
       "      <td>57.290</td>\n",
       "      <td>57.3460</td>\n",
       "      <td>57.1446</td>\n",
       "      <td>57.2850</td>\n",
       "      <td>50935</td>\n",
       "      <td>0</td>\n",
       "    </tr>\n",
       "    <tr>\n",
       "      <th>1562</th>\n",
       "      <td>2017-11-08</td>\n",
       "      <td>57.310</td>\n",
       "      <td>57.5500</td>\n",
       "      <td>57.2200</td>\n",
       "      <td>57.4900</td>\n",
       "      <td>71770</td>\n",
       "      <td>0</td>\n",
       "    </tr>\n",
       "    <tr>\n",
       "      <th>1563</th>\n",
       "      <td>2017-11-09</td>\n",
       "      <td>57.230</td>\n",
       "      <td>57.2300</td>\n",
       "      <td>56.7100</td>\n",
       "      <td>56.9265</td>\n",
       "      <td>53130</td>\n",
       "      <td>0</td>\n",
       "    </tr>\n",
       "    <tr>\n",
       "      <th>1564</th>\n",
       "      <td>2017-11-10</td>\n",
       "      <td>56.960</td>\n",
       "      <td>56.9600</td>\n",
       "      <td>56.3909</td>\n",
       "      <td>56.4000</td>\n",
       "      <td>29233</td>\n",
       "      <td>0</td>\n",
       "    </tr>\n",
       "  </tbody>\n",
       "</table>\n",
       "<p>1565 rows × 7 columns</p>\n",
       "</div>"
      ],
      "text/plain": [
       "            Date    Open     High      Low    Close  Volume  OpenInt\n",
       "0     2010-07-21  24.333  24.3330  23.9460  23.9460   43321        0\n",
       "1     2010-07-22  24.644  24.6440  24.3620  24.4870   18031        0\n",
       "2     2010-07-23  24.759  24.7590  24.3140  24.5070    8897        0\n",
       "3     2010-07-26  24.624  24.6240  24.4490  24.5950   19443        0\n",
       "4     2010-07-27  24.477  24.5170  24.4310  24.5170    8456        0\n",
       "...          ...     ...      ...      ...      ...     ...      ...\n",
       "1560  2017-11-06  57.610  57.7372  57.2285  57.6500   41601        0\n",
       "1561  2017-11-07  57.290  57.3460  57.1446  57.2850   50935        0\n",
       "1562  2017-11-08  57.310  57.5500  57.2200  57.4900   71770        0\n",
       "1563  2017-11-09  57.230  57.2300  56.7100  56.9265   53130        0\n",
       "1564  2017-11-10  56.960  56.9600  56.3909  56.4000   29233        0\n",
       "\n",
       "[1565 rows x 7 columns]"
      ]
     },
     "execution_count": 6,
     "metadata": {},
     "output_type": "execute_result"
    }
   ],
   "source": [
    "data"
   ]
  },
  {
   "cell_type": "markdown",
   "id": "304f90f5",
   "metadata": {},
   "source": [
    "### Simulating realtime data "
   ]
  },
  {
   "cell_type": "code",
   "execution_count": 7,
   "id": "04ac5194",
   "metadata": {},
   "outputs": [
    {
     "ename": "KeyboardInterrupt",
     "evalue": "",
     "output_type": "error",
     "traceback": [
      "\u001b[0;31m---------------------------------------------------------------------------\u001b[0m",
      "\u001b[0;31mKeyboardInterrupt\u001b[0m                         Traceback (most recent call last)",
      "Cell \u001b[0;32mIn[7], line 4\u001b[0m\n\u001b[1;32m      2\u001b[0m dict_stock \u001b[38;5;241m=\u001b[39m data\u001b[38;5;241m.\u001b[39msample(\u001b[38;5;241m1\u001b[39m)\u001b[38;5;241m.\u001b[39mto_dict(orient\u001b[38;5;241m=\u001b[39m\u001b[38;5;124m\"\u001b[39m\u001b[38;5;124mrecords\u001b[39m\u001b[38;5;124m\"\u001b[39m)[\u001b[38;5;241m0\u001b[39m]\n\u001b[1;32m      3\u001b[0m producer\u001b[38;5;241m.\u001b[39msend(\u001b[38;5;124m'\u001b[39m\u001b[38;5;124mstockmarketdata\u001b[39m\u001b[38;5;124m'\u001b[39m, value\u001b[38;5;241m=\u001b[39mdict_stock)\n\u001b[0;32m----> 4\u001b[0m \u001b[43msleep\u001b[49m\u001b[43m(\u001b[49m\u001b[38;5;241;43m1\u001b[39;49m\u001b[43m)\u001b[49m   \u001b[38;5;66;03m# we use sleep to avoid crashing\u001b[39;00m\n",
      "\u001b[0;31mKeyboardInterrupt\u001b[0m: "
     ]
    }
   ],
   "source": [
    "while True:\n",
    "    dict_stock = data.sample(1).to_dict(orient=\"records\")[0]\n",
    "    producer.send('stockmarketdata', value=dict_stock)\n",
    "    sleep(1)   # we use sleep to avoid crashing"
   ]
  },
  {
   "cell_type": "code",
   "execution_count": null,
   "id": "91de19f9",
   "metadata": {},
   "outputs": [],
   "source": []
  }
 ],
 "metadata": {
  "kernelspec": {
   "display_name": "Python 3 (ipykernel)",
   "language": "python",
   "name": "python3"
  },
  "language_info": {
   "codemirror_mode": {
    "name": "ipython",
    "version": 3
   },
   "file_extension": ".py",
   "mimetype": "text/x-python",
   "name": "python",
   "nbconvert_exporter": "python",
   "pygments_lexer": "ipython3",
   "version": "3.9.6"
  }
 },
 "nbformat": 4,
 "nbformat_minor": 5
}
